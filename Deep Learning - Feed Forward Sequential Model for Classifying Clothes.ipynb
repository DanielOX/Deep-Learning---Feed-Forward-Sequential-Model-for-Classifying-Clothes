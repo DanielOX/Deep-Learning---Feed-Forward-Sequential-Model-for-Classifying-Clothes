{
 "cells": [
  {
   "cell_type": "code",
   "execution_count": 1,
   "metadata": {},
   "outputs": [],
   "source": [
    "import tensorflow as tf\n",
    "from tensorflow import keras\n",
    "import matplotlib.pyplot as plt\n",
    "import numpy as np\n",
    "import pandas as pd"
   ]
  },
  {
   "cell_type": "code",
   "execution_count": 2,
   "metadata": {},
   "outputs": [
    {
     "data": {
      "text/plain": [
       "(60000, 28, 28)"
      ]
     },
     "execution_count": 2,
     "metadata": {},
     "output_type": "execute_result"
    }
   ],
   "source": [
    "fashion_mnist = keras.datasets.fashion_mnist\n",
    "(train_images, train_labels), (test_images, test_labels) = fashion_mnist.load_data()\n",
    "train_images.shape"
   ]
  },
  {
   "cell_type": "code",
   "execution_count": 3,
   "metadata": {},
   "outputs": [],
   "source": [
    "class_names = ['Tshirt/top','Trousers','Pullover','Dress','Coat','Sandal','Shirt','Sneaker','Bag','Ankle Boot']"
   ]
  },
  {
   "cell_type": "code",
   "execution_count": 4,
   "metadata": {},
   "outputs": [
    {
     "data": {
      "text/plain": [
       "'Sneaker'"
      ]
     },
     "execution_count": 4,
     "metadata": {},
     "output_type": "execute_result"
    }
   ],
   "source": [
    "class_names[train_labels[6]]"
   ]
  },
  {
   "cell_type": "code",
   "execution_count": 5,
   "metadata": {},
   "outputs": [
    {
     "data": {
      "text/plain": [
       "<matplotlib.image.AxesImage at 0x7f4e4e1521d0>"
      ]
     },
     "execution_count": 5,
     "metadata": {},
     "output_type": "execute_result"
    },
    {
     "data": {
      "image/png": "[encoded data removed]",
      "text/plain": [
       "<Figure size 432x288 with 1 Axes>"
      ]
     },
     "metadata": {
      "needs_background": "light"
     },
     "output_type": "display_data"
    }
   ],
   "source": [
    "plt.imshow(train_images[0])"
   ]
  },
  {
   "cell_type": "code",
   "execution_count": 6,
   "metadata": {},
   "outputs": [
    {
     "data": {
      "text/plain": [
       "<matplotlib.image.AxesImage at 0x7f4e4a4a9710>"
      ]
     },
     "execution_count": 6,
     "metadata": {},
     "output_type": "execute_result"
    },
    {
     "data": {
      "image/png": "[encoded data removed]",
      "text/plain": [
       "<Figure size 432x288 with 1 Axes>"
      ]
     },
     "metadata": {
      "needs_background": "light"
     },
     "output_type": "display_data"
    }
   ],
   "source": [
    "train_images = train_images / 255.\n",
    "test_images  = test_images / 255.\n",
    "plt.imshow(train_images[0])"
   ]
  },
  {
   "cell_type": "code",
   "execution_count": 7,
   "metadata": {},
   "outputs": [],
   "source": [
    "x_valid,x_train = train_images[:10000],train_images[10000:]\n",
    "y_valid,y_train = train_labels[:10000],train_labels[10000:]"
   ]
  },
  {
   "cell_type": "code",
   "execution_count": 8,
   "metadata": {},
   "outputs": [],
   "source": [
    "np.random.seed(42)\n",
    "tf.random.set_random_seed(42)"
   ]
  },
  {
   "cell_type": "code",
   "execution_count": 16,
   "metadata": {},
   "outputs": [],
   "source": [
    "model = keras.models.Sequential()\n",
    "model.add(keras.layers.Flatten(input_shape=[28,28]))\n",
    "model.add(keras.layers.Dense(400,activation='relu'))\n",
    "model.add(keras.layers.Dense(300,activation='relu'))\n",
    "model.add(keras.layers.Dense(200,activation='relu'))\n",
    "model.add(keras.layers.Dense(100,activation='relu'))\n",
    "model.add(keras.layers.Dense(10,activation='softmax',name='Output'))\n"
   ]
  },
  {
   "cell_type": "code",
   "execution_count": 17,
   "metadata": {},
   "outputs": [
    {
     "name": "stdout",
     "output_type": "stream",
     "text": [
      "Model: \"sequential_1\"\n",
      "_________________________________________________________________\n",
      "Layer (type)                 Output Shape              Param #   \n",
      "=================================================================\n",
      "flatten_1 (Flatten)          (None, 784)               0         \n",
      "_________________________________________________________________\n",
      "dense_2 (Dense)              (None, 400)               314000    \n",
      "_________________________________________________________________\n",
      "dense_3 (Dense)              (None, 300)               120300    \n",
      "_________________________________________________________________\n",
      "dense_4 (Dense)              (None, 200)               60200     \n",
      "_________________________________________________________________\n",
      "dense_5 (Dense)              (None, 100)               20100     \n",
      "_________________________________________________________________\n",
      "Output (Dense)               (None, 10)                1010      \n",
      "=================================================================\n",
      "Total params: 515,610\n",
      "Trainable params: 515,610\n",
      "Non-trainable params: 0\n",
      "_________________________________________________________________\n"
     ]
    }
   ],
   "source": [
    "model.summary()"
   ]
  },
  {
   "cell_type": "code",
   "execution_count": 18,
   "metadata": {},
   "outputs": [],
   "source": [
    "model.compile(loss=tf.keras.losses.sparse_categorical_crossentropy,optimizer='sgd',metrics=['accuracy'])"
   ]
  },
  {
   "cell_type": "code",
   "execution_count": 19,
   "metadata": {
    "scrolled": false
   },
   "outputs": [
    {
     "name": "stdout",
     "output_type": "stream",
     "text": [
      "Train on 50000 samples, validate on 10000 samples\n",
      "Epoch 1/30\n",
      "50000/50000 [==============================] - 8s 169us/sample - loss: 0.7337 - acc: 0.7544 - val_loss: 0.5354 - val_acc: 0.8074\n",
      "Epoch 2/30\n",
      "50000/50000 [==============================] - 10s 192us/sample - loss: 0.4748 - acc: 0.8326 - val_loss: 0.4594 - val_acc: 0.8407\n",
      "Epoch 3/30\n",
      "50000/50000 [==============================] - 10s 196us/sample - loss: 0.4220 - acc: 0.8501 - val_loss: 0.4555 - val_acc: 0.8363\n",
      "Epoch 4/30\n",
      "50000/50000 [==============================] - 10s 207us/sample - loss: 0.3922 - acc: 0.8593 - val_loss: 0.4069 - val_acc: 0.8544\n",
      "Epoch 5/30\n",
      "50000/50000 [==============================] - 10s 199us/sample - loss: 0.3686 - acc: 0.8658 - val_loss: 0.3753 - val_acc: 0.8641\n",
      "Epoch 6/30\n",
      "50000/50000 [==============================] - 11s 214us/sample - loss: 0.3505 - acc: 0.8736 - val_loss: 0.3652 - val_acc: 0.8705\n",
      "Epoch 7/30\n",
      "50000/50000 [==============================] - 10s 202us/sample - loss: 0.3360 - acc: 0.8769 - val_loss: 0.3662 - val_acc: 0.8680\n",
      "Epoch 8/30\n",
      "50000/50000 [==============================] - 10s 194us/sample - loss: 0.3204 - acc: 0.8843 - val_loss: 0.3828 - val_acc: 0.8529\n",
      "Epoch 9/30\n",
      "50000/50000 [==============================] - 10s 195us/sample - loss: 0.3094 - acc: 0.8876 - val_loss: 0.3391 - val_acc: 0.8767\n",
      "Epoch 10/30\n",
      "50000/50000 [==============================] - 10s 204us/sample - loss: 0.2998 - acc: 0.8899 - val_loss: 0.3390 - val_acc: 0.8754\n",
      "Epoch 11/30\n",
      "50000/50000 [==============================] - 10s 198us/sample - loss: 0.2897 - acc: 0.8934 - val_loss: 0.3462 - val_acc: 0.8716\n",
      "Epoch 12/30\n",
      "50000/50000 [==============================] - 10s 207us/sample - loss: 0.2816 - acc: 0.8958 - val_loss: 0.3306 - val_acc: 0.8736\n",
      "Epoch 13/30\n",
      "50000/50000 [==============================] - 10s 197us/sample - loss: 0.2735 - acc: 0.8998 - val_loss: 0.3376 - val_acc: 0.8700\n",
      "Epoch 14/30\n",
      "50000/50000 [==============================] - 11s 217us/sample - loss: 0.2649 - acc: 0.9023 - val_loss: 0.3184 - val_acc: 0.8826\n",
      "Epoch 15/30\n",
      "50000/50000 [==============================] - 10s 194us/sample - loss: 0.2584 - acc: 0.9046 - val_loss: 0.3476 - val_acc: 0.8736\n",
      "Epoch 16/30\n",
      "50000/50000 [==============================] - 10s 193us/sample - loss: 0.2515 - acc: 0.9069 - val_loss: 0.3367 - val_acc: 0.8768\n",
      "Epoch 17/30\n",
      "50000/50000 [==============================] - 10s 196us/sample - loss: 0.2444 - acc: 0.9083 - val_loss: 0.2982 - val_acc: 0.8913\n",
      "Epoch 18/30\n",
      "50000/50000 [==============================] - 11s 215us/sample - loss: 0.2372 - acc: 0.9129 - val_loss: 0.3340 - val_acc: 0.8816\n",
      "Epoch 19/30\n",
      "50000/50000 [==============================] - 9s 175us/sample - loss: 0.2314 - acc: 0.9145 - val_loss: 0.3274 - val_acc: 0.8771\n",
      "Epoch 20/30\n",
      "50000/50000 [==============================] - 10s 195us/sample - loss: 0.2254 - acc: 0.9160 - val_loss: 0.3270 - val_acc: 0.8851\n",
      "Epoch 21/30\n",
      "50000/50000 [==============================] - 10s 198us/sample - loss: 0.2186 - acc: 0.9196 - val_loss: 0.4094 - val_acc: 0.8448\n",
      "Epoch 22/30\n",
      "50000/50000 [==============================] - 10s 207us/sample - loss: 0.2132 - acc: 0.9206 - val_loss: 0.4132 - val_acc: 0.8599\n",
      "Epoch 23/30\n",
      "50000/50000 [==============================] - 10s 190us/sample - loss: 0.2080 - acc: 0.9240 - val_loss: 0.3009 - val_acc: 0.8904\n",
      "Epoch 24/30\n",
      "50000/50000 [==============================] - 10s 200us/sample - loss: 0.2029 - acc: 0.9254 - val_loss: 0.3453 - val_acc: 0.8691\n",
      "Epoch 25/30\n",
      "50000/50000 [==============================] - 10s 197us/sample - loss: 0.1976 - acc: 0.9270 - val_loss: 0.3038 - val_acc: 0.8926\n",
      "Epoch 26/30\n",
      "50000/50000 [==============================] - 10s 192us/sample - loss: 0.1913 - acc: 0.9300 - val_loss: 0.3284 - val_acc: 0.8853\n",
      "Epoch 27/30\n",
      "50000/50000 [==============================] - 10s 198us/sample - loss: 0.1867 - acc: 0.9316 - val_loss: 0.3013 - val_acc: 0.8938\n",
      "Epoch 28/30\n",
      "50000/50000 [==============================] - 10s 192us/sample - loss: 0.1829 - acc: 0.9329 - val_loss: 0.3048 - val_acc: 0.8887\n",
      "Epoch 29/30\n",
      "50000/50000 [==============================] - 11s 218us/sample - loss: 0.1763 - acc: 0.9347 - val_loss: 0.3273 - val_acc: 0.8855\n",
      "Epoch 30/30\n",
      "50000/50000 [==============================] - 11s 222us/sample - loss: 0.1727 - acc: 0.9364 - val_loss: 0.3124 - val_acc: 0.8911\n"
     ]
    }
   ],
   "source": [
    "model_history = model.fit(x_train,y_train,epochs=30,validation_data=(x_valid,y_valid))"
   ]
  },
  {
   "cell_type": "code",
   "execution_count": 13,
   "metadata": {},
   "outputs": [
    {
     "data": {
      "image/png": "[encoded data removed]",
      "text/plain": [
       "<Figure size 1008x360 with 1 Axes>"
      ]
     },
     "metadata": {
      "needs_background": "light"
     },
     "output_type": "display_data"
    }
   ],
   "source": [
    "pd.DataFrame(model_history.history).plot(figsize=(14,5))\n",
    "plt.grid(True)\n",
    "plt.show()"
   ]
  },
  {
   "cell_type": "markdown",
   "metadata": {},
   "source": [
    "### Model Evaluation"
   ]
  },
  {
   "cell_type": "code",
   "execution_count": 14,
   "metadata": {},
   "outputs": [
    {
     "name": "stdout",
     "output_type": "stream",
     "text": [
      "10000/10000 [==============================] - 1s 66us/sample - loss: 0.3384 - acc: 0.8801\n"
     ]
    },
    {
     "data": {
      "text/plain": [
       "[0.3383588900625706, 0.8801]"
      ]
     },
     "execution_count": 14,
     "metadata": {},
     "output_type": "execute_result"
    }
   ],
   "source": [
    "model.evaluate(test_images, test_labels)"
   ]
  },
  {
   "cell_type": "code",
   "execution_count": 15,
   "metadata": {},
   "outputs": [
    {
     "data": {
      "text/plain": [
       "array([[0.  , 0.  , 0.  , 0.  , 0.  , 0.  , 0.  , 0.01, 0.  , 0.99],\n",
       "       [0.  , 0.  , 1.  , 0.  , 0.  , 0.  , 0.  , 0.  , 0.  , 0.  ],\n",
       "       [0.  , 1.  , 0.  , 0.  , 0.  , 0.  , 0.  , 0.  , 0.  , 0.  ]],\n",
       "      dtype=float32)"
      ]
     },
     "execution_count": 15,
     "metadata": {},
     "output_type": "execute_result"
    }
   ],
   "source": [
    "x_new = test_images[:3]\n",
    "y_prob =model.predict(x_new)\n",
    "y_prob.round(2)"
   ]
  },
  {
   "cell_type": "code",
   "execution_count": null,
   "metadata": {},
   "outputs": [],
   "source": []
  }
 ],
 "metadata": {
  "kernelspec": {
   "display_name": "Python [conda env:root] *",
   "language": "python",
   "name": "conda-root-py"
  },
  "language_info": {
   "codemirror_mode": {
    "name": "ipython",
    "version": 2
   },
   "file_extension": ".py",
   "mimetype": "text/x-python",
   "name": "python",
   "nbconvert_exporter": "python",
   "pygments_lexer": "ipython2",
   "version": "2.7.17"
  }
 },
 "nbformat": 4,
 "nbformat_minor": 2
}
